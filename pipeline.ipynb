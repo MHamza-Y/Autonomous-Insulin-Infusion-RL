{
 "cells": [
  {
   "cell_type": "code",
   "execution_count": 1,
   "metadata": {
    "collapsed": true,
    "ExecuteTime": {
     "end_time": "2023-05-20T16:18:58.907473731Z",
     "start_time": "2023-05-20T16:18:52.802929916Z"
    }
   },
   "outputs": [
    {
     "name": "stderr",
     "output_type": "stream",
     "text": [
      "/home/hamza/PycharmProjects/Autonomous-Insulin-Infusion-RL/venv/lib/python3.10/site-packages/tensorflow_probability/python/__init__.py:57: DeprecationWarning: distutils Version classes are deprecated. Use packaging.version instead.\n",
      "  if (distutils.version.LooseVersion(tf.__version__) <\n",
      "2023-05-20 18:18:57,529\tINFO worker.py:1538 -- Started a local Ray instance.\n"
     ]
    },
    {
     "data": {
      "text/plain": "RayContext(dashboard_url='', python_version='3.10.6', ray_version='2.2.0', ray_commit='b6af0887ee5f2e460202133791ad941a41f15beb', address_info={'node_ip_address': '192.168.0.185', 'raylet_ip_address': '192.168.0.185', 'redis_address': None, 'object_store_address': '/tmp/ray/session_2023-05-20_18-18-55_866229_146672/sockets/plasma_store', 'raylet_socket_name': '/tmp/ray/session_2023-05-20_18-18-55_866229_146672/sockets/raylet', 'webui_url': '', 'session_dir': '/tmp/ray/session_2023-05-20_18-18-55_866229_146672', 'metrics_export_port': 62188, 'gcs_address': '192.168.0.185:55647', 'address': '192.168.0.185:55647', 'dashboard_agent_listen_port': 52365, 'node_id': '65cafc8aacc50ad2a3bb7ec98b42f7f934a86f58a5d255467cb0f06f'})",
      "text/html": "<div>\n    <div style=\"margin-left: 50px;display: flex;flex-direction: row;align-items: center\">\n        <h3 style=\"color: var(--jp-ui-font-color0)\">Ray</h3>\n        <svg version=\"1.1\" id=\"ray\" width=\"3em\" viewBox=\"0 0 144.5 144.6\" style=\"margin-left: 3em;margin-right: 3em\">\n            <g id=\"layer-1\">\n                <path fill=\"#00a2e9\" class=\"st0\" d=\"M97.3,77.2c-3.8-1.1-6.2,0.9-8.3,5.1c-3.5,6.8-9.9,9.9-17.4,9.6S58,88.1,54.8,81.2c-1.4-3-3-4-6.3-4.1\n                    c-5.6-0.1-9.9,0.1-13.1,6.4c-3.8,7.6-13.6,10.2-21.8,7.6C5.2,88.4-0.4,80.5,0,71.7c0.1-8.4,5.7-15.8,13.8-18.2\n                    c8.4-2.6,17.5,0.7,22.3,8c1.3,1.9,1.3,5.2,3.6,5.6c3.9,0.6,8,0.2,12,0.2c1.8,0,1.9-1.6,2.4-2.8c3.5-7.8,9.7-11.8,18-11.9\n                    c8.2-0.1,14.4,3.9,17.8,11.4c1.3,2.8,2.9,3.6,5.7,3.3c1-0.1,2,0.1,3,0c2.8-0.5,6.4,1.7,8.1-2.7s-2.3-5.5-4.1-7.5\n                    c-5.1-5.7-10.9-10.8-16.1-16.3C84,38,81.9,37.1,78,38.3C66.7,42,56.2,35.7,53,24.1C50.3,14,57.3,2.8,67.7,0.5\n                    C78.4-2,89,4.7,91.5,15.3c0.1,0.3,0.1,0.5,0.2,0.8c0.7,3.4,0.7,6.9-0.8,9.8c-1.7,3.2-0.8,5,1.5,7.2c6.7,6.5,13.3,13,19.8,19.7\n                    c1.8,1.8,3,2.1,5.5,1.2c9.1-3.4,17.9-0.6,23.4,7c4.8,6.9,4.6,16.1-0.4,22.9c-5.4,7.2-14.2,9.9-23.1,6.5c-2.3-0.9-3.5-0.6-5.1,1.1\n                    c-6.7,6.9-13.6,13.7-20.5,20.4c-1.8,1.8-2.5,3.2-1.4,5.9c3.5,8.7,0.3,18.6-7.7,23.6c-7.9,5-18.2,3.8-24.8-2.9\n                    c-6.4-6.4-7.4-16.2-2.5-24.3c4.9-7.8,14.5-11,23.1-7.8c3,1.1,4.7,0.5,6.9-1.7C91.7,98.4,98,92.3,104.2,86c1.6-1.6,4.1-2.7,2.6-6.2\n                    c-1.4-3.3-3.8-2.5-6.2-2.6C99.8,77.2,98.9,77.2,97.3,77.2z M72.1,29.7c5.5,0.1,9.9-4.3,10-9.8c0-0.1,0-0.2,0-0.3\n                    C81.8,14,77,9.8,71.5,10.2c-5,0.3-9,4.2-9.3,9.2c-0.2,5.5,4,10.1,9.5,10.3C71.8,29.7,72,29.7,72.1,29.7z M72.3,62.3\n                    c-5.4-0.1-9.9,4.2-10.1,9.7c0,0.2,0,0.3,0,0.5c0.2,5.4,4.5,9.7,9.9,10c5.1,0.1,9.9-4.7,10.1-9.8c0.2-5.5-4-10-9.5-10.3\n                    C72.6,62.3,72.4,62.3,72.3,62.3z M115,72.5c0.1,5.4,4.5,9.7,9.8,9.9c5.6-0.2,10-4.8,10-10.4c-0.2-5.4-4.6-9.7-10-9.7\n                    c-5.3-0.1-9.8,4.2-9.9,9.5C115,72.1,115,72.3,115,72.5z M19.5,62.3c-5.4,0.1-9.8,4.4-10,9.8c-0.1,5.1,5.2,10.4,10.2,10.3\n                    c5.6-0.2,10-4.9,9.8-10.5c-0.1-5.4-4.5-9.7-9.9-9.6C19.6,62.3,19.5,62.3,19.5,62.3z M71.8,134.6c5.9,0.2,10.3-3.9,10.4-9.6\n                    c0.5-5.5-3.6-10.4-9.1-10.8c-5.5-0.5-10.4,3.6-10.8,9.1c0,0.5,0,0.9,0,1.4c-0.2,5.3,4,9.8,9.3,10\n                    C71.6,134.6,71.7,134.6,71.8,134.6z\"/>\n            </g>\n        </svg>\n        <table>\n            <tr>\n                <td style=\"text-align: left\"><b>Python version:</b></td>\n                <td style=\"text-align: left\"><b>3.10.6</b></td>\n            </tr>\n            <tr>\n                <td style=\"text-align: left\"><b>Ray version:</b></td>\n                <td style=\"text-align: left\"><b> 2.2.0</b></td>\n            </tr>\n            \n        </table>\n    </div>\n</div>\n"
     },
     "execution_count": 1,
     "metadata": {},
     "output_type": "execute_result"
    }
   ],
   "source": [
    "import warnings\n",
    "\n",
    "import ray\n",
    "from ray.rllib.utils import PolynomialSchedule\n",
    "\n",
    "from src.components.train import train_env\n",
    "from src.simglucose.env import register_simglucose_env\n",
    "\n",
    "warnings.filterwarnings('ignore')\n",
    "ray.init(log_to_driver=False)"
   ]
  },
  {
   "cell_type": "markdown",
   "source": [
    "# Define Configs"
   ],
   "metadata": {
    "collapsed": false
   }
  },
  {
   "cell_type": "code",
   "execution_count": 2,
   "outputs": [],
   "source": [
    "from src.simglucose.rewards import tan_reward, uniform_reward_with_risk\n",
    "\n",
    "schedule_timesteps = 2000000\n",
    "pl_sch = PolynomialSchedule(schedule_timesteps=2000000, initial_p=1e-3, final_p=1e-4, framework=\"torch\", power=1)\n",
    "lr_schedule = list(map(lambda t: [t, pl_sch.value(t)], range(0, schedule_timesteps, 2000)))\n",
    "entropy_pl_sch = PolynomialSchedule(schedule_timesteps=2000000, initial_p=1e-3, final_p=1e-6, framework=\"torch\",\n",
    "                                    power=3)\n",
    "ent_schedule = list(map(lambda t: [t, entropy_pl_sch.value(t)], range(0, schedule_timesteps, 2000)))\n",
    "total_workers = 10\n",
    "num_envs_per_worker = 1\n",
    "\n",
    "env_name = \"Simglucose-v0\"\n",
    "register_simglucose_env(env_name)\n",
    "env_configs = dict(reward_fun=uniform_reward_with_risk, patient_name='adult#004')"
   ],
   "metadata": {
    "collapsed": false,
    "ExecuteTime": {
     "end_time": "2023-05-20T16:18:58.915577246Z",
     "start_time": "2023-05-20T16:18:58.911155052Z"
    }
   }
  },
  {
   "cell_type": "code",
   "execution_count": 3,
   "outputs": [],
   "source": [
    "from ray.rllib.algorithms.ppo import PPOConfig\n",
    "\n",
    "lstm_model = {\"fcnet_hiddens\": [32, 32, 32], \"vf_share_layers\": False, \"use_lstm\": True,\n",
    "              \"lstm_cell_size\": 32, \"max_seq_len\": 100}\n",
    "algo = \"PPO\"\n",
    "config = (\n",
    "    PPOConfig()\n",
    "    .environment(env_name, env_config=env_configs)\n",
    "    .training(gamma=0.996, num_sgd_iter=3, sgd_minibatch_size=400, clip_param=0.1, lr=1e-3,\n",
    "              train_batch_size=4000,\n",
    "              entropy_coeff=1e-3, entropy_coeff_schedule=ent_schedule, lr_schedule=lr_schedule, vf_clip_param=10000)\n",
    "    .resources(num_gpus=1, num_cpus_per_worker=1)\n",
    "    .rollouts(num_rollout_workers=total_workers, num_envs_per_worker=num_envs_per_worker, enable_connectors=True, observation_filter='MeanStdFilter', batch_mode='complete_episodes')\n",
    "    .framework(\"torch\")\n",
    "    .training(\n",
    "        model=lstm_model)\n",
    "    .evaluation(evaluation_num_workers=1)\n",
    ")\n"
   ],
   "metadata": {
    "collapsed": false,
    "ExecuteTime": {
     "end_time": "2023-05-20T16:18:58.952484461Z",
     "start_time": "2023-05-20T16:18:58.918251320Z"
    }
   }
  },
  {
   "cell_type": "code",
   "execution_count": 4,
   "outputs": [],
   "source": [
    "# from ray.rllib.algorithms.dreamer import DreamerConfig\n",
    "#\n",
    "# config = (DreamerConfig().\n",
    "#           training(gamma=0.996)\n",
    "#\n",
    "#           .resources(num_gpus=1, num_cpus_per_worker=1)\n",
    "#           .rollouts(num_rollout_workers=total_workers, num_envs_per_worker=num_envs_per_worker)\n",
    "#           .framework(\"torch\")\n",
    "#           .training(\n",
    "#     model=lstm_model)\n",
    "#           .evaluation(evaluation_num_workers=1)\n",
    "#           )"
   ],
   "metadata": {
    "collapsed": false,
    "ExecuteTime": {
     "end_time": "2023-05-20T16:18:58.995002494Z",
     "start_time": "2023-05-20T16:18:58.954006716Z"
    }
   }
  },
  {
   "cell_type": "code",
   "execution_count": 5,
   "outputs": [],
   "source": [
    "log_dir = \"tmp/pipeline_logs\""
   ],
   "metadata": {
    "collapsed": false,
    "ExecuteTime": {
     "end_time": "2023-05-20T16:18:58.996330242Z",
     "start_time": "2023-05-20T16:18:58.995362874Z"
    }
   }
  },
  {
   "cell_type": "markdown",
   "source": [
    "# Train RL Agent\n",
    "\n",
    "The model is trained here using the best config from the tune step. The best training checkpoint is then chosen for evaluation"
   ],
   "metadata": {
    "collapsed": false
   }
  },
  {
   "cell_type": "code",
   "execution_count": null,
   "outputs": [
    {
     "data": {
      "text/plain": "<IPython.core.display.HTML object>",
      "text/html": ""
     },
     "metadata": {},
     "output_type": "display_data"
    },
    {
     "name": "stderr",
     "output_type": "stream",
     "text": [
      "2023-05-20 18:18:59,123\tWARNING algorithm_config.py:571 -- You have specified 1 evaluation workers, but your `evaluation_interval` is None! Therefore, evaluation will not occur automatically with each call to `Algorithm.train()`. Instead, you will have to call `Algorithm.evaluate()` manually in order to trigger an evaluation run.\n",
      "2023-05-20 18:18:59,126\tWARNING algorithm_config.py:571 -- You have specified 1 evaluation workers, but your `evaluation_interval` is None! Therefore, evaluation will not occur automatically with each call to `Algorithm.train()`. Instead, you will have to call `Algorithm.evaluate()` manually in order to trigger an evaluation run.\n"
     ]
    },
    {
     "data": {
      "text/plain": "<IPython.core.display.HTML object>",
      "text/html": "<div class=\"trialProgress\">\n  <h3>Trial Progress</h3>\n  <table>\n<thead>\n<tr><th>Trial name                   </th><th style=\"text-align: right;\">  agent_timesteps_total</th><th>counters                                                                                                                        </th><th>custom_metrics  </th><th>date               </th><th>done  </th><th style=\"text-align: right;\">  episode_len_mean</th><th>episode_media  </th><th style=\"text-align: right;\">  episode_reward_max</th><th style=\"text-align: right;\">  episode_reward_mean</th><th style=\"text-align: right;\">  episode_reward_min</th><th style=\"text-align: right;\">  episodes_this_iter</th><th style=\"text-align: right;\">  episodes_total</th><th>experiment_id                   </th><th>hostname              </th><th>info                                                                                                                                                                                                                                                                                                                                                                                                                                                                                                                                                                                                                              </th><th style=\"text-align: right;\">  iterations_since_restore</th><th>node_ip      </th><th style=\"text-align: right;\">  num_agent_steps_sampled</th><th style=\"text-align: right;\">  num_agent_steps_trained</th><th style=\"text-align: right;\">  num_env_steps_sampled</th><th style=\"text-align: right;\">  num_env_steps_sampled_this_iter</th><th style=\"text-align: right;\">  num_env_steps_trained</th><th style=\"text-align: right;\">  num_env_steps_trained_this_iter</th><th style=\"text-align: right;\">  num_faulty_episodes</th><th style=\"text-align: right;\">  num_healthy_workers</th><th style=\"text-align: right;\">  num_in_flight_async_reqs</th><th style=\"text-align: right;\">  num_remote_worker_restarts</th><th style=\"text-align: right;\">  num_steps_trained_this_iter</th><th>perf                                                                          </th><th style=\"text-align: right;\">   pid</th><th>policy_reward_max  </th><th>policy_reward_mean  </th><th>policy_reward_min  </th><th>sampler_perf                                                                                                                                                                                                </th><th>sampler_results                                                                                                                                                                                                                                                                                                                                                                                                                                                                                                                                                                                                                                                                                                                                                                                                                                                                                                                                                                                                                                                                                                                                                                                                                                                                                                                                                                                                                                                                                                                                                                                                                                                                                                                                                                                                                                                                                                                                                                                                                                                                                                                                                                                                                                                                                                                                                                                                                                                                                                                                                                                                                                                                                                                                                                                                                                                                                                                                                                                                                                                                                                                                                                                                                                                                                                                                                                                                                                                                                                                                                                                                                                                                                                                                                                                                                                                                                                                                                                                                                                                                                                                                                                                                                                                                                                                                                                                                                                                                                                                                                                                                                                                                                                                                                                                                                                                                                                                                                                                                                                                                                                                                                                                                                                                                                                                                                                                                                                                                                                                                                                                                                                                                                                                                                                                                                                                                                                                                                                                                                                                                                                                                                                                                                                                                                                                                                                                                                                                                                                                                                                                                             </th><th style=\"text-align: right;\">  time_since_restore</th><th style=\"text-align: right;\">  time_this_iter_s</th><th style=\"text-align: right;\">  time_total_s</th><th>timers                                                                                                                                                                                  </th><th style=\"text-align: right;\">  timestamp</th><th style=\"text-align: right;\">  timesteps_since_restore</th><th style=\"text-align: right;\">  timesteps_total</th><th style=\"text-align: right;\">  training_iteration</th><th>trial_id   </th><th style=\"text-align: right;\">  warmup_time</th></tr>\n</thead>\n<tbody>\n<tr><td>PPO_Simglucose-v0_06a8c_00000</td><td style=\"text-align: right;\">                   4083</td><td>{&#x27;num_env_steps_sampled&#x27;: 4083, &#x27;num_env_steps_trained&#x27;: 4083, &#x27;num_agent_steps_sampled&#x27;: 4083, &#x27;num_agent_steps_trained&#x27;: 4083}</td><td>{}              </td><td>2023-05-20_18-19-26</td><td>False </td><td style=\"text-align: right;\">           16.9419</td><td>{}             </td><td style=\"text-align: right;\">             2.12176</td><td style=\"text-align: right;\">              1.19943</td><td style=\"text-align: right;\">             0.28526</td><td style=\"text-align: right;\">                 241</td><td style=\"text-align: right;\">             241</td><td>a15cf10c789845628eb6cabd75b42f14</td><td>hamza-Legion-5-15ACH6H</td><td>{&#x27;learner&#x27;: {&#x27;default_policy&#x27;: {&#x27;custom_metrics&#x27;: {}, &#x27;learner_stats&#x27;: {&#x27;cur_kl_coeff&#x27;: 0.20000000000000007, &#x27;cur_lr&#x27;: 0.0010000000000000002, &#x27;total_loss&#x27;: 0.13348971574256818, &#x27;policy_loss&#x27;: 0.006307779659982771, &#x27;vf_loss&#x27;: 0.12796844815214475, &#x27;vf_explained_var&#x27;: 0.3390824536482493, &#x27;kl&#x27;: 0.002509225061900736, &#x27;entropy&#x27;: 1.28835479815801, &#x27;entropy_coeff&#x27;: 0.0010000000000000002}, &#x27;model&#x27;: {}, &#x27;num_grad_updates_lifetime&#x27;: 15.5, &#x27;diff_num_grad_updates_vs_sampler_policy&#x27;: 14.5}}, &#x27;num_env_steps_sampled&#x27;: 4083, &#x27;num_env_steps_trained&#x27;: 4083, &#x27;num_agent_steps_sampled&#x27;: 4083, &#x27;num_agent_steps_trained&#x27;: 4083}</td><td style=\"text-align: right;\">                         1</td><td>192.168.0.185</td><td style=\"text-align: right;\">                     4083</td><td style=\"text-align: right;\">                     4083</td><td style=\"text-align: right;\">                   4083</td><td style=\"text-align: right;\">                             4083</td><td style=\"text-align: right;\">                   4083</td><td style=\"text-align: right;\">                             4083</td><td style=\"text-align: right;\">                    0</td><td style=\"text-align: right;\">                   10</td><td style=\"text-align: right;\">                         0</td><td style=\"text-align: right;\">                           0</td><td style=\"text-align: right;\">                         4083</td><td>{&#x27;cpu_util_percent&#x27;: 64.35882352941178, &#x27;ram_util_percent&#x27;: 88.56470588235294}</td><td style=\"text-align: right;\">148076</td><td>{}                 </td><td>{}                  </td><td>{}                 </td><td>{&#x27;mean_raw_obs_processing_ms&#x27;: 1.765510754995826, &#x27;mean_inference_ms&#x27;: 1.5396314379706169, &#x27;mean_action_processing_ms&#x27;: 0.193541997606311, &#x27;mean_env_wait_ms&#x27;: 20.45460580531374, &#x27;mean_env_render_ms&#x27;: 0.0}</td><td>{&#x27;episode_reward_max&#x27;: 2.121761197872997, &#x27;episode_reward_min&#x27;: 0.28526041490423226, &#x27;episode_reward_mean&#x27;: 1.1994283189441668, &#x27;episode_len_mean&#x27;: 16.941908713692946, &#x27;episode_media&#x27;: {}, &#x27;episodes_this_iter&#x27;: 241, &#x27;policy_reward_min&#x27;: {}, &#x27;policy_reward_max&#x27;: {}, &#x27;policy_reward_mean&#x27;: {}, &#x27;custom_metrics&#x27;: {}, &#x27;hist_stats&#x27;: {&#x27;episode_reward&#x27;: [1.1741908309575861, 0.9552588631412302, 1.17318428527117, 0.5706309526268465, 2.029138092285152, 1.0288239223642648, 0.28526041490423226, 1.3350373213846123, 1.1388257390405185, 1.9185263480208132, 1.1294051198752733, 1.1464528109216399, 1.1261667244372564, 1.2624735641780171, 0.7760345646965001, 0.9955120638030092, 1.131488924721655, 1.2173219127776345, 1.1948084091608633, 1.0750744934495664, 1.4418459340256358, 1.3180885325583285, 1.2723730326621179, 0.5231667618841931, 1.186095517490072, 1.144982574899019, 1.1569992954027346, 1.2357566752025675, 0.8593451330771202, 1.1351594392824278, 1.2182389620670593, 1.2052194251378803, 1.123057897580513, 1.2975822448302488, 1.2466449924031322, 1.1896734179158144, 1.091957084519267, 1.293905747934952, 1.334772233997966, 1.7461239381099112, 0.997309261927987, 1.5919556920883111, 1.3237225591054116, 1.2196429714773274, 0.9971827734421893, 1.1568526165787603, 1.4937335715687827, 1.0988662235840592, 1.2466971996453005, 1.0285787060503533, 1.345891417706436, 1.0226161960282323, 1.3036625872955143, 1.427091980884922, 1.188057870521537, 1.577457089725934, 1.4162245619556835, 0.9267233699378592, 1.287576876270868, 1.1019397976935486, 1.2249938699700118, 2.121761197872997, 1.2288324971465339, 1.2246106789887747, 1.2108307006175905, 1.280536783025668, 0.9944633339774639, 1.098469961798034, 1.2004442984314274, 0.9013071504386119, 0.9929687026166253, 0.8802713839140954, 1.2373464024707375, 1.2443027878713147, 1.2197501708399376, 1.1672444770926482, 1.1705599552994266, 0.5183953889473666, 1.2330512516311924, 1.3857389453695594, 1.1588460881090856, 1.196519262072873, 1.3443602195362117, 1.3518623399742162, 1.1567087568872882, 1.1166744343727741, 1.1421651868423566, 1.0687393874483524, 1.4025592342823947, 1.0889075674573647, 1.21096486488215, 1.004961692243685, 1.2768690734366896, 1.3231255075915986, 1.3008718896571343, 1.2087410972524122, 1.2165563045409133, 1.2405724488297136, 1.0433528242008048, 1.0292617677362592, 1.4847936848783443, 1.3586792258915152, 1.0943811584763488, 1.0198124036796494, 1.4040735079632038, 1.2460725346223938, 1.1388490917162046, 1.9033377738758048, 1.1326419756547008, 1.3182319453373903, 1.3686589827367244, 1.0858991165219962, 1.1839678641610811, 1.1778736115601514, 1.3911553888617694, 0.925679621367488, 1.2045514844185183, 0.6950081324109619, 1.2896725424239974, 1.2162238238414151, 1.1130326258059349, 1.4665039060757599, 1.5107867086832156, 0.9914190607066584, 1.4105063262810147, 1.0949243233340298, 1.066274779127319, 1.2570077860883089, 0.8791408367905108, 1.4506421200603006, 0.8355160048862038, 1.211829065411082, 1.3301487604702225, 1.2183759243120547, 1.1655471940444957, 0.9790180031506471, 1.4712144857644915, 1.2994977582121094, 1.1094771675817514, 1.1408017113097326, 1.007397417617331, 1.3837178186473433, 1.1886381448168841, 0.8670602646036119, 1.0881946458246483, 1.1624679040688308, 1.203546263339217, 1.1317490730637108, 1.0647170562940156, 0.9777582349459334, 1.2412149101236485, 1.0556071786066719, 1.1284630873791652, 1.0099582782713117, 1.1402523758461123, 1.4595385081647716, 1.2926937043763511, 0.9932518986935278, 1.1785745153296667, 0.8826128375438732, 1.5761406012957175, 1.1809551818958022, 1.3997439359902781, 1.2533515010058223, 1.2114319867156267, 1.1740421710332287, 1.0646843857944441, 1.1955753313220858, 1.1582826575792167, 1.4468646467050763, 1.0020223888364117, 1.226666734257881, 1.3482859808492254, 1.0181707969784373, 0.9777159821829783, 1.127547810339693, 1.3525806042329536, 1.4246551810581563, 1.0544734688043185, 1.1739009959301898, 1.2272840581309603, 1.1982718564917556, 1.0619183224793878, 1.2710356488371335, 1.3212603762334123, 0.9619208448828266, 1.0987432148109038, 1.1709930635824481, 1.2817240487504242, 0.4159930950146319, 1.3792170417643284, 0.7688732620720624, 1.1190389243703283, 1.003196906579913, 1.4935124297979805, 1.0774511420067079, 0.9405677168142115, 1.250237385610897, 1.177403768888536, 1.15983800018185, 1.4318819611414493, 1.1452508726032673, 0.9229938643224408, 1.3307590883709455, 1.3923474718622006, 1.517812355967812, 1.513004180842246, 1.1372798698345676, 1.0936747682812586, 1.6588860453858258, 1.0334364959847364, 1.2316399378146445, 1.5822780874411784, 1.5411616245065656, 1.2563011231713932, 1.1617350698805975, 1.0703179849622475, 1.0601812931606525, 1.4154835269740331, 1.1284234920533456, 1.0381009097869336, 1.1409184152793455, 1.1370062064710866, 1.2054589415594856, 1.0115703800821885, 1.3704363857388995, 1.2310971390485816, 1.5587349762087794, 1.3546492411794318, 1.2028718256395103, 1.2300635570268947, 1.3019332975230336, 1.385120269732615, 1.3059249139238882, 1.1457977637462449, 1.2609684423402805, 1.5038330377977125, 1.124576483714786, 1.7478390522730578, 1.2562322502964334, 1.2251388672910537], &#x27;episode_lengths&#x27;: [16, 16, 16, 16, 29, 16, 16, 16, 18, 27, 17, 15, 16, 17, 18, 15, 15, 16, 16, 16, 16, 18, 15, 15, 17, 16, 17, 16, 15, 16, 19, 18, 16, 18, 16, 16, 15, 17, 17, 29, 15, 22, 19, 16, 15, 16, 20, 16, 17, 17, 17, 17, 16, 18, 18, 19, 17, 16, 18, 17, 16, 29, 15, 17, 16, 17, 15, 17, 17, 16, 16, 15, 16, 16, 18, 16, 15, 15, 17, 18, 18, 18, 16, 18, 16, 15, 16, 16, 16, 15, 19, 15, 17, 17, 18, 16, 17, 16, 15, 16, 16, 17, 16, 15, 17, 17, 23, 25, 17, 16, 18, 17, 17, 15, 19, 17, 17, 18, 17, 17, 16, 17, 19, 16, 19, 16, 15, 17, 28, 20, 16, 17, 17, 16, 16, 17, 17, 16, 16, 17, 16, 18, 18, 16, 16, 16, 15, 16, 15, 16, 16, 15, 17, 16, 16, 16, 16, 16, 15, 25, 21, 18, 16, 15, 16, 17, 15, 17, 16, 20, 15, 16, 17, 15, 15, 17, 16, 17, 17, 17, 17, 18, 16, 17, 17, 15, 15, 15, 17, 17, 18, 15, 17, 16, 17, 16, 15, 16, 18, 16, 16, 16, 15, 17, 18, 18, 20, 17, 17, 20, 16, 16, 17, 17, 17, 17, 15, 16, 17, 15, 16, 17, 15, 17, 15, 17, 17, 19, 18, 17, 17, 17, 15, 19, 15, 17, 18, 16, 20, 16, 16]}, &#x27;sampler_perf&#x27;: {&#x27;mean_raw_obs_processing_ms&#x27;: 1.765510754995826, &#x27;mean_inference_ms&#x27;: 1.5396314379706169, &#x27;mean_action_processing_ms&#x27;: 0.193541997606311, &#x27;mean_env_wait_ms&#x27;: 20.45460580531374, &#x27;mean_env_render_ms&#x27;: 0.0}, &#x27;num_faulty_episodes&#x27;: 0}</td><td style=\"text-align: right;\">             11.4144</td><td style=\"text-align: right;\">           11.4144</td><td style=\"text-align: right;\">       11.4144</td><td>{&#x27;training_iteration_time_ms&#x27;: 11394.644, &#x27;load_time_ms&#x27;: 15.98, &#x27;load_throughput&#x27;: 255506.799, &#x27;learn_time_ms&#x27;: 306.226, &#x27;learn_throughput&#x27;: 13333.289, &#x27;synch_weights_time_ms&#x27;: 3.629}</td><td style=\"text-align: right;\"> 1684599566</td><td style=\"text-align: right;\">                        0</td><td style=\"text-align: right;\">             4083</td><td style=\"text-align: right;\">                   1</td><td>06a8c_00000</td><td style=\"text-align: right;\">      11.8756</td></tr>\n</tbody>\n</table>\n</div>\n<style>\n.trialProgress {\n  display: flex;\n  flex-direction: column;\n  color: var(--jp-ui-font-color1);\n}\n.trialProgress h3 {\n  font-weight: bold;\n}\n.trialProgress td {\n  white-space: nowrap;\n}\n</style>\n"
     },
     "metadata": {},
     "output_type": "display_data"
    }
   ],
   "source": [
    "train_results = train_env(\n",
    "    algo=algo,\n",
    "    config=config,\n",
    "    log_dir=log_dir,\n",
    "    iterations=20000,\n",
    "    stop_reward_mean=1000,\n",
    "    name=\"simglucose_solver\",\n",
    "    checkpoint_frequency=5\n",
    ")\n",
    "best_checkpoint = train_results.get_best_result(metric=\"episode_reward_mean\", mode=\"max\").best_checkpoints[0]\n",
    "best_checkpoint_path = best_checkpoint[0]._local_path"
   ],
   "metadata": {
    "collapsed": false,
    "pycharm": {
     "is_executing": true
    },
    "is_executing": true,
    "ExecuteTime": {
     "start_time": "2023-05-20T16:18:58.995585248Z"
    }
   }
  },
  {
   "cell_type": "code",
   "execution_count": null,
   "outputs": [],
   "source": [],
   "metadata": {
    "collapsed": false,
    "pycharm": {
     "is_executing": true
    },
    "is_executing": true
   }
  }
 ],
 "metadata": {
  "kernelspec": {
   "display_name": "Python 3",
   "language": "python",
   "name": "python3"
  },
  "language_info": {
   "codemirror_mode": {
    "name": "ipython",
    "version": 2
   },
   "file_extension": ".py",
   "mimetype": "text/x-python",
   "name": "python",
   "nbconvert_exporter": "python",
   "pygments_lexer": "ipython2",
   "version": "2.7.6"
  }
 },
 "nbformat": 4,
 "nbformat_minor": 0
}
