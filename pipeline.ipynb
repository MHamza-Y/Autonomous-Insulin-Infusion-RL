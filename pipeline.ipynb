{
 "cells": [
  {
   "cell_type": "code",
   "execution_count": null,
   "metadata": {
    "collapsed": true,
    "ExecuteTime": {
     "start_time": "2023-04-09T15:40:21.996167Z",
     "end_time": "2023-04-09T15:40:28.769966Z"
    }
   },
   "outputs": [],
   "source": [
    "import ray\n",
    "from ray.rllib.utils import PolynomialSchedule\n",
    "from src.components.train import train_env\n",
    "from src.simglucose.env import register_simglucose_env\n",
    "import warnings\n",
    "\n",
    "\n",
    "warnings.filterwarnings('ignore')\n",
    "ray.init(log_to_driver=False)"
   ]
  },
  {
   "cell_type": "markdown",
   "source": [
    "# Define Configs"
   ],
   "metadata": {
    "collapsed": false
   }
  },
  {
   "cell_type": "code",
   "execution_count": null,
   "outputs": [],
   "source": [
    "from src.simglucose.rewards import tan_reward\n",
    "\n",
    "schedule_timesteps = 2000000\n",
    "pl_sch = PolynomialSchedule(schedule_timesteps=2000000, initial_p=1e-3, final_p=1e-5, framework=\"torch\", power=3)\n",
    "lr_schedule = list(map(lambda t: [t, pl_sch.value(t)], range(0, schedule_timesteps, 2000)))\n",
    "entropy_pl_sch = PolynomialSchedule(schedule_timesteps=2000000, initial_p=1e-3, final_p=1e-6, framework=\"torch\",\n",
    "                                    power=3)\n",
    "ent_schedule = list(map(lambda t: [t, entropy_pl_sch.value(t)], range(0, schedule_timesteps, 2000)))\n",
    "print(lr_schedule)\n",
    "total_workers = 10\n",
    "num_envs_per_worker = 10\n",
    "\n",
    "env_name = \"Simglucose-v0\"\n",
    "register_simglucose_env(env_name)\n",
    "env_configs = dict(reward_fun=tan_reward, patient_type='adult')"
   ],
   "metadata": {
    "collapsed": false,
    "ExecuteTime": {
     "start_time": "2023-04-09T15:40:28.773053Z",
     "end_time": "2023-04-09T15:40:28.777779Z"
    }
   }
  },
  {
   "cell_type": "code",
   "execution_count": null,
   "outputs": [],
   "source": [
    "from ray.rllib.algorithms.ppo import PPOConfig\n",
    "\n",
    "lstm_model = {\"fcnet_hiddens\": [32, 32], \"vf_share_layers\": False, \"use_lstm\": True,\n",
    "               \"lstm_cell_size\": 32, \"max_seq_len\": 200}\n",
    "algo = \"PPO\"\n",
    "config = (\n",
    "    PPOConfig()\n",
    "    .environment(env_name, env_config=env_configs)\n",
    "    .training(gamma=0.996, num_sgd_iter=3, sgd_minibatch_size=400, clip_param=0.1, lr=1e-3,\n",
    "              train_batch_size=4000,\n",
    "              entropy_coeff=1e-3, entropy_coeff_schedule=ent_schedule,lr_schedule=lr_schedule)\n",
    "    .resources(num_gpus=1, num_cpus_per_worker=1)\n",
    "    .rollouts(num_rollout_workers=total_workers, num_envs_per_worker=num_envs_per_worker)\n",
    "    .framework(\"torch\")\n",
    "    .training(\n",
    "        model= lstm_model)\n",
    "    .evaluation(evaluation_num_workers=1)\n",
    ")\n"
   ],
   "metadata": {
    "collapsed": false,
    "ExecuteTime": {
     "start_time": "2023-04-09T15:40:28.780492Z",
     "end_time": "2023-04-09T15:40:28.808537Z"
    }
   }
  },
  {
   "cell_type": "markdown",
   "source": [
    "# Tune Hyper-parameters\n",
    "\n",
    "The hyper-parameters to be optimized can be defined in the config using tune API. For example in this case *use_lstm* is a hyper-parameter with values *[True, False]*. The *tune_hyper_param*  searches for the optimal parameter values and returns the best config."
   ],
   "metadata": {
    "collapsed": false
   }
  },
  {
   "cell_type": "code",
   "execution_count": null,
   "outputs": [],
   "source": [
    "log_dir = \"tmp/pipeline_logs\""
   ],
   "metadata": {
    "collapsed": false,
    "ExecuteTime": {
     "start_time": "2023-04-09T15:40:28.812384Z",
     "end_time": "2023-04-09T15:40:28.856275Z"
    }
   }
  },
  {
   "cell_type": "markdown",
   "source": [
    "# Train RL Agent\n",
    "\n",
    "The model is trained here using the best config from the tune step. The best training checkpoint is then chosen for evaluation"
   ],
   "metadata": {
    "collapsed": false
   }
  },
  {
   "cell_type": "code",
   "execution_count": null,
   "outputs": [],
   "source": [
    "train_results = train_env(\n",
    "    algo=algo,\n",
    "    config=config,\n",
    "    log_dir=log_dir,\n",
    "    iterations=20000,\n",
    "    stop_reward_mean=1000,\n",
    "    name=\"simglucose_solver\",\n",
    "    checkpoint_frequency=5\n",
    ")\n",
    "best_checkpoint = train_results.get_best_result(metric=\"episode_reward_mean\", mode=\"max\").best_checkpoints[0]\n",
    "best_checkpoint_path = best_checkpoint[0]._local_path"
   ],
   "metadata": {
    "collapsed": false,
    "ExecuteTime": {
     "start_time": "2023-04-09T11:08:10.948257Z",
     "end_time": "2023-04-09T11:08:53.731313Z"
    }
   }
  },
  {
   "cell_type": "code",
   "execution_count": null,
   "outputs": [],
   "source": [],
   "metadata": {
    "collapsed": false,
    "ExecuteTime": {
     "start_time": "2023-04-09T11:08:53.733310Z",
     "end_time": "2023-04-09T11:08:53.776577Z"
    }
   }
  }
 ],
 "metadata": {
  "kernelspec": {
   "display_name": "Python 3",
   "language": "python",
   "name": "python3"
  },
  "language_info": {
   "codemirror_mode": {
    "name": "ipython",
    "version": 2
   },
   "file_extension": ".py",
   "mimetype": "text/x-python",
   "name": "python",
   "nbconvert_exporter": "python",
   "pygments_lexer": "ipython2",
   "version": "2.7.6"
  }
 },
 "nbformat": 4,
 "nbformat_minor": 0
}
