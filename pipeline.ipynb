{
 "cells": [
  {
   "cell_type": "code",
   "execution_count": 1,
   "metadata": {
    "collapsed": true
   },
   "outputs": [
    {
     "name": "stderr",
     "output_type": "stream",
     "text": [
      "/home/hamza/PycharmProjects/Autonomous-Insulin-Infusion-RL/venv/lib/python3.10/site-packages/tensorflow_probability/python/__init__.py:57: DeprecationWarning: distutils Version classes are deprecated. Use packaging.version instead.\n",
      "  if (distutils.version.LooseVersion(tf.__version__) <\n"
     ]
    }
   ],
   "source": [
    "import time\n",
    "import ray\n",
    "from ray.rllib.algorithms.ppo import PPOConfig\n",
    "from os.path import join\n",
    "from src.components.eval import eval_env\n",
    "from src.components.train import train_env\n",
    "from src.components.tune import tune_hyper_param\n",
    "from src.simglucose.env import env_creator\n",
    "from src.simglucose.env import register_simglucose_env\n",
    "from src.files.utills import pickle_obj\n",
    "from src.simglucose.rewards import no_negativityV2"
   ]
  },
  {
   "cell_type": "markdown",
   "source": [
    "# Define Configs"
   ],
   "metadata": {
    "collapsed": false
   }
  },
  {
   "cell_type": "code",
   "execution_count": 2,
   "outputs": [],
   "source": [
    "\n",
    "\n",
    "total_workers = 10\n",
    "num_envs_per_worker = 1\n",
    "algo = \"PPO\"\n",
    "env_name = \"Simglucose-v0\"\n",
    "register_simglucose_env(env_name)\n",
    "env_configs = dict(reward_fun=no_negativityV2, patient_type='adult')\n",
    "config = (\n",
    "    PPOConfig()\n",
    "    .environment(env_name, env_config=env_configs)\n",
    "    .training(gamma=0.995, num_sgd_iter=3, sgd_minibatch_size=50, clip_param=0.1, lr=1e-4, train_batch_size=1000,\n",
    "              entropy_coeff=1e-5)\n",
    "    .resources(num_gpus=1, num_cpus_per_worker=1)\n",
    "    .rollouts(num_rollout_workers=total_workers, num_envs_per_worker=num_envs_per_worker)\n",
    "    .framework(\"torch\")\n",
    "    .training(\n",
    "        model={\"fcnet_hiddens\": [64, 64, 64], \"vf_share_layers\": False, \"use_lstm\": True,\n",
    "               \"lstm_cell_size\": 32, \"max_seq_len\": 100,\"lstm_use_prev_action\":False})\n",
    "    .evaluation(evaluation_num_workers=1)\n",
    ")\n",
    "log_dir = \"tmp/pipeline_logs\""
   ],
   "metadata": {
    "collapsed": false
   }
  },
  {
   "cell_type": "markdown",
   "source": [
    "# Tune Hyper-parameters\n",
    "\n",
    "The hyper-parameters to be optimized can be defined in the config using tune API. For example in this case *use_lstm* is a hyper-parameter with values *[True, False]*. The *tune_hyper_param*  searches for the optimal parameter values and returns the best config."
   ],
   "metadata": {
    "collapsed": false
   }
  },
  {
   "cell_type": "code",
   "execution_count": null,
   "outputs": [
    {
     "name": "stderr",
     "output_type": "stream",
     "text": [
      "2023-03-30 11:57:48,291\tINFO worker.py:1538 -- Started a local Ray instance.\n"
     ]
    },
    {
     "data": {
      "text/plain": "<IPython.core.display.HTML object>",
      "text/html": ""
     },
     "metadata": {},
     "output_type": "display_data"
    },
    {
     "name": "stderr",
     "output_type": "stream",
     "text": [
      "2023-03-30 11:57:49,449\tWARNING algorithm_config.py:571 -- You have specified 1 evaluation workers, but your `evaluation_interval` is None! Therefore, evaluation will not occur automatically with each call to `Algorithm.train()`. Instead, you will have to call `Algorithm.evaluate()` manually in order to trigger an evaluation run.\n",
      "2023-03-30 11:57:49,449\tWARNING algorithm_config.py:571 -- You have specified 1 evaluation workers, but your `evaluation_interval` is None! Therefore, evaluation will not occur automatically with each call to `Algorithm.train()`. Instead, you will have to call `Algorithm.evaluate()` manually in order to trigger an evaluation run.\n",
      "\u001B[2m\u001B[36m(pid=1247977)\u001B[0m /home/hamza/PycharmProjects/Autonomous-Insulin-Infusion-RL/venv/lib/python3.10/site-packages/tensorflow_probability/python/__init__.py:57: DeprecationWarning: distutils Version classes are deprecated. Use packaging.version instead.\n",
      "\u001B[2m\u001B[36m(pid=1247977)\u001B[0m   if (distutils.version.LooseVersion(tf.__version__) <\n",
      "\u001B[2m\u001B[36m(PPO pid=1247977)\u001B[0m 2023-03-30 11:57:52,586\tWARNING algorithm_config.py:488 -- Cannot create PPOConfig from given `config_dict`! Property __stdout_file__ not supported.\n",
      "\u001B[2m\u001B[36m(PPO pid=1247977)\u001B[0m 2023-03-30 11:57:52,586\tWARNING algorithm_config.py:571 -- You have specified 1 evaluation workers, but your `evaluation_interval` is None! Therefore, evaluation will not occur automatically with each call to `Algorithm.train()`. Instead, you will have to call `Algorithm.evaluate()` manually in order to trigger an evaluation run.\n",
      "\u001B[2m\u001B[36m(PPO pid=1247977)\u001B[0m 2023-03-30 11:57:53,021\tINFO algorithm.py:501 -- Current log_level is WARN. For more information, set 'log_level': 'INFO' / 'DEBUG' or use the -v and -vv flags.\n",
      "\u001B[2m\u001B[36m(pid=1248061)\u001B[0m /home/hamza/PycharmProjects/Autonomous-Insulin-Infusion-RL/venv/lib/python3.10/site-packages/tensorflow_probability/python/__init__.py:57: DeprecationWarning: distutils Version classes are deprecated. Use packaging.version instead.\n",
      "\u001B[2m\u001B[36m(pid=1248061)\u001B[0m   if (distutils.version.LooseVersion(tf.__version__) <\n",
      "\u001B[2m\u001B[36m(pid=1248064)\u001B[0m /home/hamza/PycharmProjects/Autonomous-Insulin-Infusion-RL/venv/lib/python3.10/site-packages/tensorflow_probability/python/__init__.py:57: DeprecationWarning: distutils Version classes are deprecated. Use packaging.version instead.\n",
      "\u001B[2m\u001B[36m(pid=1248064)\u001B[0m   if (distutils.version.LooseVersion(tf.__version__) <\n",
      "\u001B[2m\u001B[36m(pid=1248058)\u001B[0m /home/hamza/PycharmProjects/Autonomous-Insulin-Infusion-RL/venv/lib/python3.10/site-packages/tensorflow_probability/python/__init__.py:57: DeprecationWarning: distutils Version classes are deprecated. Use packaging.version instead.\n",
      "\u001B[2m\u001B[36m(pid=1248058)\u001B[0m   if (distutils.version.LooseVersion(tf.__version__) <\n",
      "\u001B[2m\u001B[36m(pid=1248057)\u001B[0m /home/hamza/PycharmProjects/Autonomous-Insulin-Infusion-RL/venv/lib/python3.10/site-packages/tensorflow_probability/python/__init__.py:57: DeprecationWarning: distutils Version classes are deprecated. Use packaging.version instead.\n",
      "\u001B[2m\u001B[36m(pid=1248057)\u001B[0m   if (distutils.version.LooseVersion(tf.__version__) <\n",
      "\u001B[2m\u001B[36m(pid=1248063)\u001B[0m /home/hamza/PycharmProjects/Autonomous-Insulin-Infusion-RL/venv/lib/python3.10/site-packages/tensorflow_probability/python/__init__.py:57: DeprecationWarning: distutils Version classes are deprecated. Use packaging.version instead.\n",
      "\u001B[2m\u001B[36m(pid=1248063)\u001B[0m   if (distutils.version.LooseVersion(tf.__version__) <\n",
      "\u001B[2m\u001B[36m(pid=1248059)\u001B[0m /home/hamza/PycharmProjects/Autonomous-Insulin-Infusion-RL/venv/lib/python3.10/site-packages/tensorflow_probability/python/__init__.py:57: DeprecationWarning: distutils Version classes are deprecated. Use packaging.version instead.\n",
      "\u001B[2m\u001B[36m(pid=1248059)\u001B[0m   if (distutils.version.LooseVersion(tf.__version__) <\n",
      "\u001B[2m\u001B[36m(pid=1248062)\u001B[0m /home/hamza/PycharmProjects/Autonomous-Insulin-Infusion-RL/venv/lib/python3.10/site-packages/tensorflow_probability/python/__init__.py:57: DeprecationWarning: distutils Version classes are deprecated. Use packaging.version instead.\n",
      "\u001B[2m\u001B[36m(pid=1248062)\u001B[0m   if (distutils.version.LooseVersion(tf.__version__) <\n",
      "\u001B[2m\u001B[36m(pid=1248066)\u001B[0m /home/hamza/PycharmProjects/Autonomous-Insulin-Infusion-RL/venv/lib/python3.10/site-packages/tensorflow_probability/python/__init__.py:57: DeprecationWarning: distutils Version classes are deprecated. Use packaging.version instead.\n",
      "\u001B[2m\u001B[36m(pid=1248066)\u001B[0m   if (distutils.version.LooseVersion(tf.__version__) <\n",
      "\u001B[2m\u001B[36m(pid=1248060)\u001B[0m /home/hamza/PycharmProjects/Autonomous-Insulin-Infusion-RL/venv/lib/python3.10/site-packages/tensorflow_probability/python/__init__.py:57: DeprecationWarning: distutils Version classes are deprecated. Use packaging.version instead.\n",
      "\u001B[2m\u001B[36m(pid=1248060)\u001B[0m   if (distutils.version.LooseVersion(tf.__version__) <\n",
      "\u001B[2m\u001B[36m(pid=1248065)\u001B[0m /home/hamza/PycharmProjects/Autonomous-Insulin-Infusion-RL/venv/lib/python3.10/site-packages/tensorflow_probability/python/__init__.py:57: DeprecationWarning: distutils Version classes are deprecated. Use packaging.version instead.\n",
      "\u001B[2m\u001B[36m(pid=1248065)\u001B[0m   if (distutils.version.LooseVersion(tf.__version__) <\n"
     ]
    }
   ],
   "source": [
    "tune_results = tune_hyper_param(\n",
    "    algo=algo,\n",
    "    config=config,\n",
    "    log_dir=log_dir,\n",
    "    iterations=1,\n",
    "    name=\"simglucose_tuning\"\n",
    ")\n",
    "\n",
    "best_config = tune_results.get_best_result(metric=\"episode_reward_mean\", mode=\"max\").config"
   ],
   "metadata": {
    "collapsed": false,
    "pycharm": {
     "is_executing": true
    }
   }
  },
  {
   "cell_type": "markdown",
   "source": [
    "# Train RL Agent\n",
    "\n",
    "The model is trained here using the best config from the tune step. The best training checkpoint is then chosen for evaluation"
   ],
   "metadata": {
    "collapsed": false
   }
  },
  {
   "cell_type": "code",
   "execution_count": null,
   "outputs": [],
   "source": [
    "train_results = train_env(\n",
    "    algo=algo,\n",
    "    config=best_config,\n",
    "    log_dir=log_dir,\n",
    "    iterations=20000,\n",
    "    stop_reward_mean=100,\n",
    "    name=\"simglucose_solver\",\n",
    "    checkpoint_frequency=5\n",
    ")\n",
    "best_checkpoint = train_results.get_best_result(metric=\"episode_reward_mean\", mode=\"max\").best_checkpoints[0]\n",
    "best_checkpoint_path = best_checkpoint[0]._local_path"
   ],
   "metadata": {
    "collapsed": false,
    "pycharm": {
     "is_executing": true
    }
   }
  },
  {
   "cell_type": "markdown",
   "source": [
    "# Evaluate Trained Agent\n",
    "\n",
    "The best checkpoint is evaluated for and the results are returned as dataframe for further interpretations"
   ],
   "metadata": {
    "collapsed": false
   }
  },
  {
   "cell_type": "code",
   "execution_count": null,
   "outputs": [],
   "source": [
    "print(best_checkpoint_path)\n",
    "start = time.time()\n",
    "results = eval_env(ray=ray, epochs=1000, workers=8, env_creator=env_creator, env_kwargs=env_configs,\n",
    "                   checkpoint_path=best_checkpoint_path)\n",
    "print(time.time() - start)"
   ],
   "metadata": {
    "collapsed": false,
    "pycharm": {
     "is_executing": true
    }
   }
  },
  {
   "cell_type": "code",
   "execution_count": null,
   "outputs": [],
   "source": [
    "pickle_obj(results,join('tmp','evaluation_results.pkl'))"
   ],
   "metadata": {
    "collapsed": false,
    "pycharm": {
     "is_executing": true
    }
   }
  }
 ],
 "metadata": {
  "kernelspec": {
   "display_name": "Python 3",
   "language": "python",
   "name": "python3"
  },
  "language_info": {
   "codemirror_mode": {
    "name": "ipython",
    "version": 2
   },
   "file_extension": ".py",
   "mimetype": "text/x-python",
   "name": "python",
   "nbconvert_exporter": "python",
   "pygments_lexer": "ipython2",
   "version": "2.7.6"
  }
 },
 "nbformat": 4,
 "nbformat_minor": 0
}
