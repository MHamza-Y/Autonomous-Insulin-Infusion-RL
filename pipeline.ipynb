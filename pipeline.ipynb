{
 "cells": [
  {
   "cell_type": "code",
   "execution_count": null,
   "metadata": {
    "collapsed": true
   },
   "outputs": [],
   "source": [
    "import time\n",
    "import ray\n",
    "from ray.rllib.algorithms.ppo import PPOConfig\n",
    "from os.path import join\n",
    "from src.components.eval import eval_env\n",
    "from src.components.train import train_env\n",
    "from src.components.tune import tune_hyper_param\n",
    "from src.simglucose.env import env_creator\n",
    "from src.simglucose.env import register_simglucose_env\n",
    "from src.files.utills import pickle_obj\n",
    "from src.simglucose.rewards import no_negativityV2, tan_reward\n",
    "\n",
    "ray.init(log_to_driver=False)"
   ]
  },
  {
   "cell_type": "markdown",
   "source": [
    "# Define Configs"
   ],
   "metadata": {
    "collapsed": false
   }
  },
  {
   "cell_type": "code",
   "execution_count": null,
   "outputs": [],
   "source": [
    "\n",
    "\n",
    "total_workers = 10\n",
    "num_envs_per_worker = 1\n",
    "algo = \"PPO\"\n",
    "env_name = \"Simglucose-v0\"\n",
    "register_simglucose_env(env_name)\n",
    "env_configs = dict(reward_fun=tan_reward, patient_type='adult')\n",
    "config = (\n",
    "    PPOConfig()\n",
    "    .environment(env_name, env_config=env_configs)\n",
    "    .training(gamma=0.995, num_sgd_iter=3, sgd_minibatch_size=200, clip_param=0.1, lr=1e-4, train_batch_size=1000,\n",
    "              entropy_coeff=1e-6)\n",
    "    .resources(num_gpus=1, num_cpus_per_worker=1)\n",
    "    .rollouts(num_rollout_workers=total_workers, num_envs_per_worker=num_envs_per_worker)\n",
    "    .framework(\"torch\")\n",
    "    .training(\n",
    "        model={\"fcnet_hiddens\": [8, 8], \"vf_share_layers\": False, \"use_lstm\": True,\n",
    "               \"lstm_cell_size\": 8, \"max_seq_len\": 100,\"lstm_use_prev_action\":True})\n",
    "    .evaluation(evaluation_num_workers=1)\n",
    ")\n",
    "log_dir = \"tmp/pipeline_logs\""
   ],
   "metadata": {
    "collapsed": false
   }
  },
  {
   "cell_type": "markdown",
   "source": [
    "# Tune Hyper-parameters\n",
    "\n",
    "The hyper-parameters to be optimized can be defined in the config using tune API. For example in this case *use_lstm* is a hyper-parameter with values *[True, False]*. The *tune_hyper_param*  searches for the optimal parameter values and returns the best config."
   ],
   "metadata": {
    "collapsed": false
   }
  },
  {
   "cell_type": "code",
   "execution_count": null,
   "outputs": [],
   "source": [
    "tune_results = tune_hyper_param(\n",
    "    algo=algo,\n",
    "    config=config,\n",
    "    log_dir=log_dir,\n",
    "    iterations=1,\n",
    "    name=\"simglucose_tuning\"\n",
    ")\n",
    "\n",
    "best_config = tune_results.get_best_result(metric=\"episode_reward_mean\", mode=\"max\").config"
   ],
   "metadata": {
    "collapsed": false
   }
  },
  {
   "cell_type": "markdown",
   "source": [
    "# Train RL Agent\n",
    "\n",
    "The model is trained here using the best config from the tune step. The best training checkpoint is then chosen for evaluation"
   ],
   "metadata": {
    "collapsed": false
   }
  },
  {
   "cell_type": "code",
   "execution_count": null,
   "outputs": [],
   "source": [
    "train_results = train_env(\n",
    "    algo=algo,\n",
    "    config=best_config,\n",
    "    log_dir=log_dir,\n",
    "    iterations=20000,\n",
    "    stop_reward_mean=1000,\n",
    "    name=\"simglucose_solver\",\n",
    "    checkpoint_frequency=5\n",
    ")\n",
    "best_checkpoint = train_results.get_best_result(metric=\"episode_reward_mean\", mode=\"max\").best_checkpoints[0]\n",
    "best_checkpoint_path = best_checkpoint[0]._local_path"
   ],
   "metadata": {
    "collapsed": false,
    "pycharm": {
     "is_executing": true
    }
   }
  }
 ],
 "metadata": {
  "kernelspec": {
   "display_name": "Python 3",
   "language": "python",
   "name": "python3"
  },
  "language_info": {
   "codemirror_mode": {
    "name": "ipython",
    "version": 2
   },
   "file_extension": ".py",
   "mimetype": "text/x-python",
   "name": "python",
   "nbconvert_exporter": "python",
   "pygments_lexer": "ipython2",
   "version": "2.7.6"
  }
 },
 "nbformat": 4,
 "nbformat_minor": 0
}
