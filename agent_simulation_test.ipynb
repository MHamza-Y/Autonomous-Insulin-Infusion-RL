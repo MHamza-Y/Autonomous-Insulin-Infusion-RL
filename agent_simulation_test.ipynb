{
 "cells": [
  {
   "cell_type": "code",
   "execution_count": null,
   "metadata": {
    "collapsed": true
   },
   "outputs": [],
   "source": [
    "from datetime import datetime\n",
    "from simglucose.simulation.scenario import CustomScenario\n",
    "from src.simglucose.env import env_creator\n",
    "from src.simglucose.rewards import no_negativityV2\n",
    "from src.rllib_utills.policies_wrapper import Policy\n",
    "from src.base_rl.evaluation import Evaluator"
   ]
  },
  {
   "cell_type": "code",
   "execution_count": null,
   "outputs": [],
   "source": [
    "now = datetime.now()\n",
    "start_time = datetime.combine(now.date(), datetime.min.time())\n",
    "scen = [(0, 10),  (12, 22), (18, 15), (23, 10)]\n",
    "scenario = CustomScenario(start_time=start_time, scenario=scen)\n",
    "env_configs = dict(reward_fun=no_negativityV2, patient_type='adult', custom_scenario=scenario)\n",
    "env = env_creator(env_configs)\n",
    "obs_space = env.observation_space\n",
    "action_space = env.action_space\n",
    "checkpoint_path = 'tmp/pipeline_logs/simglucose_solver/PPO_Simglucose-v0_b0fe9_00000_0_2023-03-30_01-16-10/checkpoint_000278'"
   ],
   "metadata": {
    "collapsed": false
   }
  },
  {
   "cell_type": "code",
   "execution_count": null,
   "outputs": [],
   "source": [
    "policy_kwargs = dict(checkpoint_path=checkpoint_path, obs_space=obs_space, action_space=action_space)\n",
    "evaluator = Evaluator(env_creator=env_creator, env_kwargs=env_configs, policy_class=Policy,policy_kwargs=policy_kwargs)\n",
    "evaluator.evaluate(epochs=1,render=True, sample_action=False)"
   ],
   "metadata": {
    "collapsed": false
   }
  },
  {
   "cell_type": "code",
   "execution_count": null,
   "outputs": [],
   "source": [],
   "metadata": {
    "collapsed": false
   }
  }
 ],
 "metadata": {
  "kernelspec": {
   "display_name": "Python 3",
   "language": "python",
   "name": "python3"
  },
  "language_info": {
   "codemirror_mode": {
    "name": "ipython",
    "version": 2
   },
   "file_extension": ".py",
   "mimetype": "text/x-python",
   "name": "python",
   "nbconvert_exporter": "python",
   "pygments_lexer": "ipython2",
   "version": "2.7.6"
  }
 },
 "nbformat": 4,
 "nbformat_minor": 0
}
