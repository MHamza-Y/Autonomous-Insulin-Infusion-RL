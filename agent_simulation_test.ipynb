{
 "cells": [
  {
   "cell_type": "code",
   "execution_count": null,
   "metadata": {
    "collapsed": true,
    "ExecuteTime": {
     "start_time": "2023-04-09T15:45:13.560158Z",
     "end_time": "2023-04-09T15:45:19.092423Z"
    }
   },
   "outputs": [],
   "source": [
    "from datetime import datetime\n",
    "from simglucose.simulation.scenario import CustomScenario\n",
    "from src.simglucose.env import env_creator\n",
    "from src.simglucose.rewards import no_negativityV2\n",
    "from src.rllib_utills.policies_wrapper import Policy\n",
    "from src.base_rl.evaluation import Evaluator\n",
    "import os\n",
    "import glob\n",
    "from os.path import join\n",
    "import warnings\n",
    "\n",
    "\n",
    "warnings.filterwarnings('ignore')"
   ]
  },
  {
   "cell_type": "code",
   "execution_count": null,
   "outputs": [],
   "source": [
    "now = datetime.now()\n",
    "start_time = datetime.combine(now.date(), datetime.min.time())\n",
    "scen = [(0, 10),  (12, 22), (18, 15), (23, 10)]\n",
    "scenario = CustomScenario(start_time=start_time, scenario=scen)\n",
    "env_configs = dict(reward_fun=no_negativityV2, patient_type='adult', custom_scenario=None)\n",
    "env = env_creator(env_configs)\n",
    "obs_space = env.observation_space\n",
    "action_space = env.action_space\n",
    "experiment_checkpoints_path = join('tmp','pipeline_logs','simglucose_solver','*v0_17393_00000_0_2023*','checkpoint_*')\n"
   ],
   "metadata": {
    "collapsed": false,
    "ExecuteTime": {
     "start_time": "2023-04-09T15:48:06.072254Z",
     "end_time": "2023-04-09T15:48:06.116316Z"
    }
   }
  },
  {
   "cell_type": "code",
   "execution_count": null,
   "outputs": [],
   "source": [
    "checkpoints = glob.glob(experiment_checkpoints_path)\n",
    "checkpoint_path = max(checkpoints, key=os.path.getctime)\n",
    "print(checkpoint_path)\n",
    "policy_kwargs = dict(checkpoint_path=checkpoint_path, obs_space=obs_space, action_space=action_space)\n",
    "evaluator = Evaluator(env_creator=env_creator, env_kwargs=env_configs, policy_class=Policy,policy_kwargs=policy_kwargs)\n",
    "evaluator.evaluate(epochs=1,render=True, sample_action=False)"
   ],
   "metadata": {
    "collapsed": false,
    "ExecuteTime": {
     "start_time": "2023-04-09T17:03:39.052453Z",
     "end_time": "2023-04-09T17:03:58.257749Z"
    }
   }
  },
  {
   "cell_type": "code",
   "execution_count": null,
   "outputs": [],
   "source": [],
   "metadata": {
    "collapsed": false,
    "ExecuteTime": {
     "start_time": "2023-04-09T15:45:27.914904Z",
     "end_time": "2023-04-09T15:45:27.916685Z"
    }
   }
  }
 ],
 "metadata": {
  "kernelspec": {
   "display_name": "Python 3",
   "language": "python",
   "name": "python3"
  },
  "language_info": {
   "codemirror_mode": {
    "name": "ipython",
    "version": 2
   },
   "file_extension": ".py",
   "mimetype": "text/x-python",
   "name": "python",
   "nbconvert_exporter": "python",
   "pygments_lexer": "ipython2",
   "version": "2.7.6"
  }
 },
 "nbformat": 4,
 "nbformat_minor": 0
}
